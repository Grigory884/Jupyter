{
 "cells": [
  {
   "cell_type": "code",
   "execution_count": 1,
   "id": "26c71bdd-b2ef-47f9-92ac-15b27862b526",
   "metadata": {},
   "outputs": [
    {
     "ename": "ModuleNotFoundError",
     "evalue": "No module named 'sklearn'",
     "output_type": "error",
     "traceback": [
      "\u001b[1;31m---------------------------------------------------------------------------\u001b[0m",
      "\u001b[1;31mModuleNotFoundError\u001b[0m                       Traceback (most recent call last)",
      "Cell \u001b[1;32mIn[1], line 2\u001b[0m\n\u001b[0;32m      1\u001b[0m \u001b[38;5;28;01mimport\u001b[39;00m \u001b[38;5;21;01mpandas\u001b[39;00m \u001b[38;5;28;01mas\u001b[39;00m \u001b[38;5;21;01mpd\u001b[39;00m\n\u001b[1;32m----> 2\u001b[0m \u001b[38;5;28;01mfrom\u001b[39;00m \u001b[38;5;21;01msklearn\u001b[39;00m\u001b[38;5;21;01m.\u001b[39;00m\u001b[38;5;21;01mfeature_selection\u001b[39;00m \u001b[38;5;28;01mimport\u001b[39;00m VarianceThreshold\n\u001b[0;32m      3\u001b[0m df \u001b[38;5;241m=\u001b[39m pd\u001b[38;5;241m.\u001b[39mread_csv(\u001b[38;5;124m'\u001b[39m\u001b[38;5;124mtrain.csv\u001b[39m\u001b[38;5;124m'\u001b[39m)\n\u001b[0;32m      4\u001b[0m selector \u001b[38;5;241m=\u001b[39m VarianceThreshold(threshold\u001b[38;5;241m=\u001b[39m\u001b[38;5;241m0.1\u001b[39m)\n",
      "\u001b[1;31mModuleNotFoundError\u001b[0m: No module named 'sklearn'"
     ]
    }
   ],
   "source": [
    "import pandas as pd\n",
    "from sklearn.feature_selection import VarianceThreshold\n",
    "df = pd.read_csv('train.csv')\n",
    "selector = VarianceThreshold(threshold=0.1)\n",
    "df_selected = selector.fit_transform(df)\n",
    "df_new = pd.DataFrame(df_selected, columns=df.columns[selector.get_support()])\n",
    "print(df_new)"
   ]
  },
  {
   "cell_type": "code",
   "execution_count": 4,
   "id": "c0bc9dfd-4615-4661-8239-8596da1f9f66",
   "metadata": {},
   "outputs": [
    {
     "ename": "ModuleNotFoundError",
     "evalue": "No module named 'sklearn'",
     "output_type": "error",
     "traceback": [
      "\u001b[1;31m---------------------------------------------------------------------------\u001b[0m",
      "\u001b[1;31mModuleNotFoundError\u001b[0m                       Traceback (most recent call last)",
      "Cell \u001b[1;32mIn[4], line 2\u001b[0m\n\u001b[0;32m      1\u001b[0m \u001b[38;5;28;01mimport\u001b[39;00m \u001b[38;5;21;01mpandas\u001b[39;00m \u001b[38;5;28;01mas\u001b[39;00m \u001b[38;5;21;01mpd\u001b[39;00m\n\u001b[1;32m----> 2\u001b[0m \u001b[38;5;28;01mfrom\u001b[39;00m \u001b[38;5;21;01msklearn\u001b[39;00m\u001b[38;5;21;01m.\u001b[39;00m\u001b[38;5;21;01mensemble\u001b[39;00m \u001b[38;5;28;01mimport\u001b[39;00m IsolationForest\n\u001b[0;32m      3\u001b[0m \u001b[38;5;28;01mfrom\u001b[39;00m \u001b[38;5;21;01msklearn\u001b[39;00m\u001b[38;5;21;01m.\u001b[39;00m\u001b[38;5;21;01msvm\u001b[39;00m \u001b[38;5;28;01mimport\u001b[39;00m OneClassSVM\n\u001b[0;32m      4\u001b[0m df \u001b[38;5;241m=\u001b[39m pd\u001b[38;5;241m.\u001b[39mread_csv(\u001b[38;5;124m'\u001b[39m\u001b[38;5;124mtrain.csv\u001b[39m\u001b[38;5;124m'\u001b[39m)\n",
      "\u001b[1;31mModuleNotFoundError\u001b[0m: No module named 'sklearn'"
     ]
    }
   ],
   "source": [
    "import pandas as pd\n",
    "from sklearn.ensemble import IsolationForest\n",
    "from sklearn.svm import OneClassSVM\n",
    "df = pd.read_csv('train.csv')\n",
    "clf = IsolationForest(contamination=0.01) \n",
    "anomalies = clf.fit_predict(df)\n",
    "svm_clf = OneClassSVM(nu=0.01)\n",
    "svm_anomalies = svm_clf.fit_predict(df)\n",
    "df['isolation_forest_anomaly'] = anomalies\n",
    "df['one_class_svm_anomaly'] = svm_anomalies\n",
    "print(\"Isolation Forest:\")\n",
    "print(df[df['isolation_forest_anomaly'] == -1])\n",
    "print(\"\\nOne-Class SVM:\")\n",
    "print(df[df['one_class_svm_anomaly'] == -1])\n"
   ]
  },
  {
   "cell_type": "code",
   "execution_count": null,
   "id": "4b9966a8-1012-4991-9330-629029161b77",
   "metadata": {},
   "outputs": [],
   "source": [
    "import pandas as pd\n",
    "from sklearn.ensemble import IsolationForest\n",
    "from sklearn.svm import OneClassSVM\n",
    "df = pd.read_csv('train.csv')\n",
    "clf = IsolationForest(contamination=0.01)  # Предполагаем, что 1% данных являются аномалиями\n",
    "anomalies = clf.fit_predict(df)\n",
    "svm_clf = OneClassSVM(nu=0.01)  # Предполагаем, что 1% данных являются аномалиями\n",
    "svm_anomalies = svm_clf.fit_predict(df)\n",
    "df['isolation_forest_anomaly'] = anomalies\n",
    "df['one_class_svm_anomaly'] = svm_anomalies\n",
    "print(\"Isolation Forest:\")\n",
    "print(df[df['isolation_forest_anomaly'] == -1])\n",
    "print(\"\\nOne-Class SVM:\")\n",
    "print(df[df['one_class_svm_anomaly'] == -1])\n"
   ]
  }
 ],
 "metadata": {
  "kernelspec": {
   "display_name": "Python 3 (ipykernel)",
   "language": "python",
   "name": "python3"
  },
  "language_info": {
   "codemirror_mode": {
    "name": "ipython",
    "version": 3
   },
   "file_extension": ".py",
   "mimetype": "text/x-python",
   "name": "python",
   "nbconvert_exporter": "python",
   "pygments_lexer": "ipython3",
   "version": "3.10.7"
  }
 },
 "nbformat": 4,
 "nbformat_minor": 5
}
