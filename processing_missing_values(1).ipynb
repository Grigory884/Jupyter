{
 "cells": [
  {
   "cell_type": "code",
   "execution_count": 2,
   "id": "91c7c2db-4d79-41e1-a722-32050518651a",
   "metadata": {},
   "outputs": [
    {
     "name": "stdout",
     "output_type": "stream",
     "text": [
      "          id  timestamp  full_sq  life_sq  floor  max_floor  material  \\\n",
      "0          1        NaN       43     27.0    4.0       13.0       2.0   \n",
      "1          2        NaN       34     19.0    3.0       13.0       2.0   \n",
      "2          3        NaN       43     29.0    2.0       13.0       2.0   \n",
      "3          4        NaN       89     50.0    9.0       13.0       2.0   \n",
      "4          5        NaN       77     77.0    4.0       13.0       2.0   \n",
      "...      ...        ...      ...      ...    ...        ...       ...   \n",
      "30466  30469        NaN       44     27.0    7.0        9.0       1.0   \n",
      "30467  30470        NaN       86     59.0    3.0        9.0       2.0   \n",
      "30468  30471        NaN       45     34.0   10.0       20.0       1.0   \n",
      "30469  30472        NaN       64     32.0    5.0       15.0       1.0   \n",
      "30470  30473        NaN       43     28.0    1.0        9.0       1.0   \n",
      "\n",
      "       build_year  num_room  kitch_sq  ...  cafe_count_5000_price_2500  \\\n",
      "0          1985.0       2.0       6.0  ...                           9   \n",
      "1          1985.0       2.0       6.0  ...                          15   \n",
      "2          1985.0       2.0       6.0  ...                          10   \n",
      "3          1985.0       2.0       6.0  ...                          11   \n",
      "4          1985.0       2.0       6.0  ...                         319   \n",
      "...           ...       ...       ...  ...                         ...   \n",
      "30466      1975.0       2.0       6.0  ...                          15   \n",
      "30467      1935.0       4.0      10.0  ...                         313   \n",
      "30468      1985.0       1.0       1.0  ...                           1   \n",
      "30469      2003.0       2.0      11.0  ...                          22   \n",
      "30470      1968.0       2.0       6.0  ...                           5   \n",
      "\n",
      "       cafe_count_5000_price_4000  cafe_count_5000_price_high  \\\n",
      "0                               4                           0   \n",
      "1                               3                           0   \n",
      "2                               3                           0   \n",
      "3                               2                           1   \n",
      "4                             108                          17   \n",
      "...                           ...                         ...   \n",
      "30466                           5                           0   \n",
      "30467                         128                          24   \n",
      "30468                           1                           0   \n",
      "30469                           1                           1   \n",
      "30470                           2                           0   \n",
      "\n",
      "       big_church_count_5000  church_count_5000  mosque_count_5000  \\\n",
      "0                         13                 22                  1   \n",
      "1                         15                 29                  1   \n",
      "2                         11                 27                  0   \n",
      "3                          4                  4                  0   \n",
      "4                        135                236                  2   \n",
      "...                      ...                ...                ...   \n",
      "30466                     15                 26                  1   \n",
      "30467                     98                182                  1   \n",
      "30468                      2                 12                  0   \n",
      "30469                      6                 31                  1   \n",
      "30470                      7                 16                  0   \n",
      "\n",
      "       leisure_count_5000  sport_count_5000  market_count_5000  price_doc  \n",
      "0                       0                52                  4    5850000  \n",
      "1                      10                66                 14    6000000  \n",
      "2                       4                67                 10    5700000  \n",
      "3                       0                26                  3   13100000  \n",
      "4                      91               195                 14   16331452  \n",
      "...                   ...               ...                ...        ...  \n",
      "30466                   2                84                  6    7400000  \n",
      "30467                  82               171                 15   25000000  \n",
      "30468                   1                11                  1    6970959  \n",
      "30469                   4                65                  7   13500000  \n",
      "30470                   9                54                 10    5600000  \n",
      "\n",
      "[30471 rows x 292 columns]\n"
     ]
    }
   ],
   "source": [
    "\n",
    "import pandas as pd\n",
    "df = pd.read_csv('cleaned_train.csv')\n",
    "mask = df['build_year'].between(1500, 3000)\n",
    "mean_build_year = round(df.loc[mask, 'build_year'].mean())\n",
    "df.loc[~mask, 'build_year'] = mean_build_year\n",
    "df.to_csv('cleaned_train(1).csv', index=False)\n",
    "print(df)"
   ]
  },
  {
   "cell_type": "code",
   "execution_count": null,
   "id": "81bca41e-dcd9-43ab-8a55-f23f37720a91",
   "metadata": {},
   "outputs": [],
   "source": []
  }
 ],
 "metadata": {
  "kernelspec": {
   "display_name": "Python 3 (ipykernel)",
   "language": "python",
   "name": "python3"
  },
  "language_info": {
   "codemirror_mode": {
    "name": "ipython",
    "version": 3
   },
   "file_extension": ".py",
   "mimetype": "text/x-python",
   "name": "python",
   "nbconvert_exporter": "python",
   "pygments_lexer": "ipython3",
   "version": "3.10.7"
  }
 },
 "nbformat": 4,
 "nbformat_minor": 5
}
