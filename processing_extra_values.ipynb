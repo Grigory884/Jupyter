{
 "cells": [
  {
   "cell_type": "code",
   "execution_count": 2,
   "id": "910ac925-6ae9-4987-afff-d6137c411863",
   "metadata": {},
   "outputs": [
    {
     "name": "stdout",
     "output_type": "stream",
     "text": [
      "          id   timestamp  full_sq  life_sq  floor  max_floor  material  \\\n",
      "0          1  2011-08-20       43     27.0    4.0        NaN       NaN   \n",
      "1          2  2011-08-23       34     19.0    3.0        NaN       NaN   \n",
      "2          3  2011-08-27       43     29.0    2.0        NaN       NaN   \n",
      "3          4  2011-09-01       89     50.0    9.0        NaN       NaN   \n",
      "4          5  2011-09-05       77     77.0    4.0        NaN       NaN   \n",
      "...      ...         ...      ...      ...    ...        ...       ...   \n",
      "30466  30469  2015-06-30       44     27.0    7.0        9.0       1.0   \n",
      "30467  30470  2015-06-30       86     59.0    3.0        9.0       2.0   \n",
      "30468  30471  2015-06-30       45      NaN   10.0       20.0       1.0   \n",
      "30469  30472  2015-06-30       64     32.0    5.0       15.0       1.0   \n",
      "30470  30473  2015-06-30       43     28.0    1.0        9.0       1.0   \n",
      "\n",
      "       build_year  num_room  kitch_sq  ...  cafe_count_5000_price_2500  \\\n",
      "0             NaN       NaN       NaN  ...                           9   \n",
      "1             NaN       NaN       NaN  ...                          15   \n",
      "2             NaN       NaN       NaN  ...                          10   \n",
      "3             NaN       NaN       NaN  ...                          11   \n",
      "4             NaN       NaN       NaN  ...                         319   \n",
      "...           ...       ...       ...  ...                         ...   \n",
      "30466      1975.0       2.0       6.0  ...                          15   \n",
      "30467      1935.0       4.0      10.0  ...                         313   \n",
      "30468         NaN       1.0       1.0  ...                           1   \n",
      "30469      2003.0       2.0      11.0  ...                          22   \n",
      "30470      1968.0       2.0       6.0  ...                           5   \n",
      "\n",
      "      cafe_count_5000_price_4000 cafe_count_5000_price_high  \\\n",
      "0                              4                          0   \n",
      "1                              3                          0   \n",
      "2                              3                          0   \n",
      "3                              2                          1   \n",
      "4                            108                         17   \n",
      "...                          ...                        ...   \n",
      "30466                          5                          0   \n",
      "30467                        128                         24   \n",
      "30468                          1                          0   \n",
      "30469                          1                          1   \n",
      "30470                          2                          0   \n",
      "\n",
      "       big_church_count_5000  church_count_5000  mosque_count_5000  \\\n",
      "0                         13                 22                  1   \n",
      "1                         15                 29                  1   \n",
      "2                         11                 27                  0   \n",
      "3                          4                  4                  0   \n",
      "4                        135                236                  2   \n",
      "...                      ...                ...                ...   \n",
      "30466                     15                 26                  1   \n",
      "30467                     98                182                  1   \n",
      "30468                      2                 12                  0   \n",
      "30469                      6                 31                  1   \n",
      "30470                      7                 16                  0   \n",
      "\n",
      "       leisure_count_5000  sport_count_5000  market_count_5000  price_doc  \n",
      "0                       0                52                  4    5850000  \n",
      "1                      10                66                 14    6000000  \n",
      "2                       4                67                 10    5700000  \n",
      "3                       0                26                  3   13100000  \n",
      "4                      91               195                 14   16331452  \n",
      "...                   ...               ...                ...        ...  \n",
      "30466                   2                84                  6    7400000  \n",
      "30467                  82               171                 15   25000000  \n",
      "30468                   1                11                  1    6970959  \n",
      "30469                   4                65                  7   13500000  \n",
      "30470                   9                54                 10    5600000  \n",
      "\n",
      "[30471 rows x 292 columns]\n"
     ]
    }
   ],
   "source": [
    "import pandas as pd\n",
    "data = pd.read_csv('train.csv')\n",
    "print(data) "
   ]
  },
  {
   "cell_type": "code",
   "execution_count": null,
   "id": "0d8cb1e4-fc7c-435b-b38a-b9c7f4bad697",
   "metadata": {},
   "outputs": [],
   "source": []
  }
 ],
 "metadata": {
  "kernelspec": {
   "display_name": "Python 3 (ipykernel)",
   "language": "python",
   "name": "python3"
  },
  "language_info": {
   "codemirror_mode": {
    "name": "ipython",
    "version": 3
   },
   "file_extension": ".py",
   "mimetype": "text/x-python",
   "name": "python",
   "nbconvert_exporter": "python",
   "pygments_lexer": "ipython3",
   "version": "3.10.7"
  }
 },
 "nbformat": 4,
 "nbformat_minor": 5
}
