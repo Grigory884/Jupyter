{
 "cells": [
  {
   "cell_type": "code",
   "execution_count": 4,
   "id": "d77fd45f-ca08-400e-90f9-f0b6c3e0da9c",
   "metadata": {},
   "outputs": [
    {
     "name": "stdout",
     "output_type": "stream",
     "text": [
      "          id  timestamp  full_sq  life_sq  floor  max_floor  material  \\\n",
      "3          4        NaN       89     50.0    9.0       13.0       2.0   \n",
      "7          8        NaN       44     44.0    5.0       13.0       2.0   \n",
      "8          9        NaN       42     27.0    5.0       13.0       2.0   \n",
      "9         10        NaN       36     21.0    9.0       13.0       2.0   \n",
      "11        12        NaN       38     19.0   11.0       13.0       2.0   \n",
      "...      ...        ...      ...      ...    ...        ...       ...   \n",
      "30460  30463        NaN       54     32.0    8.0       16.0       1.0   \n",
      "30463  30466        NaN       56     29.0   13.0       14.0       1.0   \n",
      "30464  30467        NaN       56     51.0   19.0       19.0       1.0   \n",
      "30468  30471        NaN       45     34.0   10.0       20.0       1.0   \n",
      "30469  30472        NaN       64     32.0    5.0       15.0       1.0   \n",
      "\n",
      "       build_year  num_room  kitch_sq  ...  cafe_count_5000_price_2500  \\\n",
      "3          1985.0       2.0       6.0  ...                          11   \n",
      "7          1985.0       2.0       6.0  ...                           9   \n",
      "8          1985.0       2.0       6.0  ...                          19   \n",
      "9          1985.0       2.0       6.0  ...                          19   \n",
      "11         1985.0       2.0       6.0  ...                           8   \n",
      "...           ...       ...       ...  ...                         ...   \n",
      "30460      1979.0       2.0       9.0  ...                           8   \n",
      "30463      2001.0       2.0      11.0  ...                          14   \n",
      "30464      2017.0       2.0       1.0  ...                          25   \n",
      "30468      1985.0       1.0       1.0  ...                           1   \n",
      "30469      2003.0       2.0      11.0  ...                          22   \n",
      "\n",
      "       cafe_count_5000_price_4000  cafe_count_5000_price_high  \\\n",
      "3                               2                           1   \n",
      "7                               4                           0   \n",
      "8                               8                           1   \n",
      "9                              13                           0   \n",
      "11                              3                           0   \n",
      "...                           ...                         ...   \n",
      "30460                           0                           0   \n",
      "30463                           2                           0   \n",
      "30464                           3                           0   \n",
      "30468                           1                           0   \n",
      "30469                           1                           1   \n",
      "\n",
      "       big_church_count_5000  church_count_5000  mosque_count_5000  \\\n",
      "3                          4                  4                  0   \n",
      "7                         11                 18                  1   \n",
      "8                         18                 34                  1   \n",
      "9                         10                 20                  1   \n",
      "11                        10                  9                  0   \n",
      "...                      ...                ...                ...   \n",
      "30460                      6                 25                  0   \n",
      "30463                     13                 12                  0   \n",
      "30464                     14                 29                  1   \n",
      "30468                      2                 12                  0   \n",
      "30469                      6                 31                  1   \n",
      "\n",
      "       leisure_count_5000  sport_count_5000  market_count_5000  price_doc  \n",
      "3                       0                26                  3   13100000  \n",
      "7                       0                47                  4    2000000  \n",
      "8                       3                85                 11    5300000  \n",
      "9                       3                67                  1    2000000  \n",
      "11                      0                35                  4    4800000  \n",
      "...                   ...               ...                ...        ...  \n",
      "30460                   1                32                  8    9500000  \n",
      "30463                   1                53                  6   12000000  \n",
      "30464                   4                90                  6   10262010  \n",
      "30468                   1                11                  1    6970959  \n",
      "30469                   4                65                  7   13500000  \n",
      "\n",
      "[13015 rows x 292 columns]\n"
     ]
    }
   ],
   "source": [
    "import pandas as pd\n",
    "df = pd.read_csv('cleaned_train(1).csv')\n",
    "std_dev = 3\n",
    "lower_bound = df.mean() - std_dev * df.std()\n",
    "upper_bound = df.mean() + std_dev * df.std()\n",
    "outliers = df[(df < lower_bound) | (df > upper_bound)].any(axis=1)\n",
    "df_cleaned = df[~outliers]\n",
    "df.to_csv('cleaned_train(2).csv', index=False)\n",
    "print(df_cleaned)"
   ]
  },
  {
   "cell_type": "code",
   "execution_count": null,
   "id": "ae2526c3-8a01-41e6-87f1-4ad1a45a413b",
   "metadata": {},
   "outputs": [],
   "source": []
  }
 ],
 "metadata": {
  "kernelspec": {
   "display_name": "Python 3 (ipykernel)",
   "language": "python",
   "name": "python3"
  },
  "language_info": {
   "codemirror_mode": {
    "name": "ipython",
    "version": 3
   },
   "file_extension": ".py",
   "mimetype": "text/x-python",
   "name": "python",
   "nbconvert_exporter": "python",
   "pygments_lexer": "ipython3",
   "version": "3.10.7"
  }
 },
 "nbformat": 4,
 "nbformat_minor": 5
}
